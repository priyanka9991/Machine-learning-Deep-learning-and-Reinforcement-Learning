{
  "nbformat": 4,
  "nbformat_minor": 0,
  "metadata": {
    "colab": {
      "name": "Copy of PPO-NES_CartPole_v0.ipynb",
      "provenance": [],
      "collapsed_sections": []
    },
    "kernelspec": {
      "name": "python3",
      "display_name": "Python 3"
    },
    "language_info": {
      "name": "python"
    },
    "accelerator": "GPU"
  },
  "cells": [
    {
      "cell_type": "markdown",
      "metadata": {
        "id": "SX59UaYxZMTT"
      },
      "source": [
        "Author - Priyanka Vasanthakumari"
      ]
    },
    {
      "cell_type": "markdown",
      "metadata": {
        "id": "3jaAIWdOZHNT"
      },
      "source": [
        "# PPO-NES"
      ]
    },
    {
      "cell_type": "markdown",
      "metadata": {
        "id": "oPdWmeyGHGg2"
      },
      "source": [
        "\n",
        "PPO-NES combines the advantages of both Proximal Policy Optimization (PPO) (Schulman et. al, 2017) and Neural Evolutionary Strategis (NES) (Salimans et. al, 2017). In PPO, the exploration is carried out in the action space by sampling from the categorical distribution as well as by the addition of an entropy term in the loss function. On the other hand, NES perturbs the neural network parameter space to facilitate exploration. Therefore, combining PPO and NES could potentially double the exploration, and eventually leads to better performance. PPO implemented in Asynchronous Actor Critic (A2C) style requires several workers (instances of actor network) to collect trajectories. In contrast, NES technique does not involve any trajectory collection or gradient descent steps. It simply works by perturbing the weights and updating the weights according to the roll-out evaluation rewards. \n",
        "\n",
        "\n",
        "The concept of transfer learning is utilized in PPO-NES, where the weights of a pre-trained network are used to initialize a model. Therefore, in comparison to initializing the model randomly, transfer learning enables the network to train on the shoulder of giant. The neural network in the NES algorithm and the actor network in the PPO algorithm has the same architecture. The critic network architecture does not depend on the NES network.   \n",
        "\n",
        "\n",
        "The steps for the PPO-NES algorithm are:\n",
        "1. Initialize the weights of the NES neural network\n",
        "2. Run NES algorithm in the environment and train the network until evaluation reward >= (Target reward/2)\n",
        "3. Transfer the trained weights of the NES network to initialize the PPO-actor network 4. Run the PPO algorithm until convergence. i.e., evaluation reward >= Target reward\n",
        "\n",
        "\n",
        "This code is organized in the following way:\n",
        "\n",
        "1) Implement PPO with clipped surrogate objective. The implementation also uses generalized advantage estimate (GAE) and entropy.\n",
        "\n",
        "\n",
        "2) Implement NES. \n",
        "\n",
        "\n",
        "3) Implement PPO-NES. \n",
        "\n",
        "\n",
        "4) Comparison of results.  \n"
      ]
    },
    {
      "cell_type": "code",
      "metadata": {
        "colab": {
          "base_uri": "https://localhost:8080/"
        },
        "id": "HBCH4vX_4rGM",
        "outputId": "4fa0f32b-9673-4c29-da2d-d3b4ed6717aa"
      },
      "source": [
        "!apt-get update\n",
        "!apt-get install xvfb\n",
        "!apt-get install x11-utils\n",
        "!apt-get install ffmpeg\n",
        "!apt-get install python-opengl \n",
        "!pip -q install gym pyvirtualdisplay pygame\n",
        "!pip3 install box2d-py\n"
      ],
      "execution_count": null,
      "outputs": [
        {
          "output_type": "stream",
          "text": [
            "\r0% [Working]\r            \rGet:1 https://cloud.r-project.org/bin/linux/ubuntu bionic-cran40/ InRelease [3,626 B]\n",
            "\r0% [Waiting for headers] [Connecting to security.ubuntu.com (91.189.88.152)] [1\r0% [Waiting for headers] [Connecting to security.ubuntu.com (91.189.88.152)] [W\r0% [1 InRelease gpgv 3,626 B] [Waiting for headers] [Connecting to security.ubu\r                                                                               \rIgn:2 https://developer.download.nvidia.com/compute/cuda/repos/ubuntu1804/x86_64  InRelease\n",
            "\r0% [1 InRelease gpgv 3,626 B] [Waiting for headers] [Connecting to security.ubu\r                                                                               \rGet:3 http://ppa.launchpad.net/c2d4u.team/c2d4u4.0+/ubuntu bionic InRelease [15.9 kB]\n",
            "\r0% [1 InRelease gpgv 3,626 B] [Waiting for headers] [Connecting to security.ubu\r                                                                               \rIgn:4 https://developer.download.nvidia.com/compute/machine-learning/repos/ubuntu1804/x86_64  InRelease\n",
            "\r0% [1 InRelease gpgv 3,626 B] [Waiting for headers] [Connecting to security.ubu\r                                                                               \rGet:5 https://developer.download.nvidia.com/compute/cuda/repos/ubuntu1804/x86_64  Release [697 B]\n",
            "\r0% [1 InRelease gpgv 3,626 B] [Waiting for headers] [Connecting to security.ubu\r0% [1 InRelease gpgv 3,626 B] [Waiting for headers] [Connecting to security.ubu\r                                                                               \rHit:6 https://developer.download.nvidia.com/compute/machine-learning/repos/ubuntu1804/x86_64  Release\n",
            "Get:7 https://developer.download.nvidia.com/compute/cuda/repos/ubuntu1804/x86_64  Release.gpg [836 B]\n",
            "Hit:8 http://archive.ubuntu.com/ubuntu bionic InRelease\n",
            "Get:9 https://cloud.r-project.org/bin/linux/ubuntu bionic-cran40/ Packages [53.9 kB]\n",
            "Get:10 http://archive.ubuntu.com/ubuntu bionic-updates InRelease [88.7 kB]\n",
            "Hit:11 http://ppa.launchpad.net/cran/libgit2/ubuntu bionic InRelease\n",
            "Get:13 http://security.ubuntu.com/ubuntu bionic-security InRelease [88.7 kB]\n",
            "Get:14 http://ppa.launchpad.net/deadsnakes/ppa/ubuntu bionic InRelease [15.9 kB]\n",
            "Get:15 http://archive.ubuntu.com/ubuntu bionic-backports InRelease [74.6 kB]\n",
            "Ign:16 https://developer.download.nvidia.com/compute/cuda/repos/ubuntu1804/x86_64  Packages\n",
            "Get:16 https://developer.download.nvidia.com/compute/cuda/repos/ubuntu1804/x86_64  Packages [742 kB]\n",
            "Get:17 http://ppa.launchpad.net/graphics-drivers/ppa/ubuntu bionic InRelease [15.9 kB]\n",
            "Get:18 http://ppa.launchpad.net/c2d4u.team/c2d4u4.0+/ubuntu bionic/main Sources [1,759 kB]\n",
            "Get:19 http://archive.ubuntu.com/ubuntu bionic-updates/restricted amd64 Packages [429 kB]\n",
            "Get:20 http://archive.ubuntu.com/ubuntu bionic-updates/universe amd64 Packages [2,181 kB]\n",
            "Get:21 http://archive.ubuntu.com/ubuntu bionic-updates/main amd64 Packages [2,550 kB]\n",
            "Get:22 http://ppa.launchpad.net/c2d4u.team/c2d4u4.0+/ubuntu bionic/main amd64 Packages [900 kB]\n",
            "Get:23 http://security.ubuntu.com/ubuntu bionic-security/universe amd64 Packages [1,410 kB]\n",
            "Get:24 http://archive.ubuntu.com/ubuntu bionic-updates/multiverse amd64 Packages [31.6 kB]\n",
            "Get:25 http://security.ubuntu.com/ubuntu bionic-security/multiverse amd64 Packages [24.7 kB]\n",
            "Get:26 http://security.ubuntu.com/ubuntu bionic-security/restricted amd64 Packages [399 kB]\n",
            "Get:27 http://security.ubuntu.com/ubuntu bionic-security/main amd64 Packages [2,119 kB]\n",
            "Get:28 http://ppa.launchpad.net/deadsnakes/ppa/ubuntu bionic/main amd64 Packages [40.3 kB]\n",
            "Get:29 http://ppa.launchpad.net/graphics-drivers/ppa/ubuntu bionic/main amd64 Packages [53.2 kB]\n",
            "Fetched 13.0 MB in 3s (3,921 kB/s)\n",
            "Reading package lists... Done\n",
            "Reading package lists... Done\n",
            "Building dependency tree       \n",
            "Reading state information... Done\n",
            "The following package was automatically installed and is no longer required:\n",
            "  libnvidia-common-460\n",
            "Use 'apt autoremove' to remove it.\n",
            "The following NEW packages will be installed:\n",
            "  xvfb\n",
            "0 upgraded, 1 newly installed, 0 to remove and 85 not upgraded.\n",
            "Need to get 784 kB of archives.\n",
            "After this operation, 2,270 kB of additional disk space will be used.\n",
            "Get:1 http://archive.ubuntu.com/ubuntu bionic-updates/universe amd64 xvfb amd64 2:1.19.6-1ubuntu4.9 [784 kB]\n",
            "Fetched 784 kB in 1s (1,085 kB/s)\n",
            "Selecting previously unselected package xvfb.\n",
            "(Reading database ... 160690 files and directories currently installed.)\n",
            "Preparing to unpack .../xvfb_2%3a1.19.6-1ubuntu4.9_amd64.deb ...\n",
            "Unpacking xvfb (2:1.19.6-1ubuntu4.9) ...\n",
            "Setting up xvfb (2:1.19.6-1ubuntu4.9) ...\n",
            "Processing triggers for man-db (2.8.3-2ubuntu0.1) ...\n",
            "Reading package lists... Done\n",
            "Building dependency tree       \n",
            "Reading state information... Done\n",
            "The following package was automatically installed and is no longer required:\n",
            "  libnvidia-common-460\n",
            "Use 'apt autoremove' to remove it.\n",
            "The following additional packages will be installed:\n",
            "  libxxf86dga1\n",
            "Suggested packages:\n",
            "  mesa-utils\n",
            "The following NEW packages will be installed:\n",
            "  libxxf86dga1 x11-utils\n",
            "0 upgraded, 2 newly installed, 0 to remove and 85 not upgraded.\n",
            "Need to get 209 kB of archives.\n",
            "After this operation, 711 kB of additional disk space will be used.\n",
            "Get:1 http://archive.ubuntu.com/ubuntu bionic/main amd64 libxxf86dga1 amd64 2:1.1.4-1 [13.7 kB]\n",
            "Get:2 http://archive.ubuntu.com/ubuntu bionic/main amd64 x11-utils amd64 7.7+3build1 [196 kB]\n",
            "Fetched 209 kB in 1s (327 kB/s)\n",
            "Selecting previously unselected package libxxf86dga1:amd64.\n",
            "(Reading database ... 160697 files and directories currently installed.)\n",
            "Preparing to unpack .../libxxf86dga1_2%3a1.1.4-1_amd64.deb ...\n",
            "Unpacking libxxf86dga1:amd64 (2:1.1.4-1) ...\n",
            "Selecting previously unselected package x11-utils.\n",
            "Preparing to unpack .../x11-utils_7.7+3build1_amd64.deb ...\n",
            "Unpacking x11-utils (7.7+3build1) ...\n",
            "Setting up libxxf86dga1:amd64 (2:1.1.4-1) ...\n",
            "Setting up x11-utils (7.7+3build1) ...\n",
            "Processing triggers for man-db (2.8.3-2ubuntu0.1) ...\n",
            "Processing triggers for libc-bin (2.27-3ubuntu1.2) ...\n",
            "/sbin/ldconfig.real: /usr/local/lib/python3.7/dist-packages/ideep4py/lib/libmkldnn.so.0 is not a symbolic link\n",
            "\n",
            "Reading package lists... Done\n",
            "Building dependency tree       \n",
            "Reading state information... Done\n",
            "ffmpeg is already the newest version (7:3.4.8-0ubuntu0.2).\n",
            "The following package was automatically installed and is no longer required:\n",
            "  libnvidia-common-460\n",
            "Use 'apt autoremove' to remove it.\n",
            "0 upgraded, 0 newly installed, 0 to remove and 85 not upgraded.\n",
            "Reading package lists... Done\n",
            "Building dependency tree       \n",
            "Reading state information... Done\n",
            "The following package was automatically installed and is no longer required:\n",
            "  libnvidia-common-460\n",
            "Use 'apt autoremove' to remove it.\n",
            "Suggested packages:\n",
            "  libgle3\n",
            "The following NEW packages will be installed:\n",
            "  python-opengl\n",
            "0 upgraded, 1 newly installed, 0 to remove and 85 not upgraded.\n",
            "Need to get 496 kB of archives.\n",
            "After this operation, 5,416 kB of additional disk space will be used.\n",
            "Get:1 http://archive.ubuntu.com/ubuntu bionic/universe amd64 python-opengl all 3.1.0+dfsg-1 [496 kB]\n",
            "Fetched 496 kB in 1s (727 kB/s)\n",
            "Selecting previously unselected package python-opengl.\n",
            "(Reading database ... 160751 files and directories currently installed.)\n",
            "Preparing to unpack .../python-opengl_3.1.0+dfsg-1_all.deb ...\n",
            "Unpacking python-opengl (3.1.0+dfsg-1) ...\n",
            "Setting up python-opengl (3.1.0+dfsg-1) ...\n",
            "\u001b[K     |████████████████████████████████| 11.8MB 6.3MB/s \n",
            "\u001b[?25hCollecting box2d-py\n",
            "\u001b[?25l  Downloading https://files.pythonhosted.org/packages/87/34/da5393985c3ff9a76351df6127c275dcb5749ae0abbe8d5210f06d97405d/box2d_py-2.3.8-cp37-cp37m-manylinux1_x86_64.whl (448kB)\n",
            "\u001b[K     |████████████████████████████████| 450kB 6.3MB/s \n",
            "\u001b[?25hInstalling collected packages: box2d-py\n",
            "Successfully installed box2d-py-2.3.8\n"
          ],
          "name": "stdout"
        }
      ]
    },
    {
      "cell_type": "code",
      "metadata": {
        "id": "v98lJbiK5ZH0"
      },
      "source": [
        "\"\"\"ENVIRONMENT\"\"\"\n",
        "import gym                                                                      #OpenAI gym \n",
        "gym.logger.set_level(40)                                                        #suppresses warning messages, displays only error messages\n",
        "\n",
        "\"\"\"MODELS AND TOOLS FOR OPTIMIZATION AND OTHER COMPUTATIONS\"\"\"\n",
        "import time\n",
        "import numpy as np\n",
        "import torch                                                                    #will use PyTorch to handle the NN \n",
        "import torch.nn as nn                                                           #contains various NN layers\n",
        "import torch.distributions as pdf                                               #contains various distributions such as Normal and Categorical\n",
        "import torch.nn.functional as F                                                 #includes various functions such as convolution etc.\n",
        "import torch.optim as optim                                                     #contains various optimization algorithms\n",
        "import random\n",
        "from random import sample\n",
        "from collections import deque, namedtuple\n",
        "from torch.distributions import Categorical\n",
        "\n",
        "\"\"\"VISUALIZATION\"\"\"\n",
        "import matplotlib\n",
        "import matplotlib.pyplot as plt\n",
        "%matplotlib inline\n",
        "from IPython.display import Image\n",
        "#from numpngw import write_apng\n",
        "from IPython import display as ipythondisplay\n",
        "from pyvirtualdisplay import Display\n",
        "from gym.wrappers import Monitor\n",
        "import base64\n",
        "import copy\n",
        "\n",
        "\n",
        "\"\"\"I/O\"\"\"\n",
        "import os\n",
        "from pathlib import Path"
      ],
      "execution_count": null,
      "outputs": []
    },
    {
      "cell_type": "code",
      "metadata": {
        "id": "pBHWO7lj5eMY"
      },
      "source": [
        "from google.colab import drive\n",
        "from google.colab import files\n",
        "\n",
        "def save_checkpoint(model, filename, mode=0):\n",
        "    \"\"\"\n",
        "    Save a model to a file in your colab space \n",
        "        \n",
        "    Parameters\n",
        "    ----------\n",
        "    model: your policy network\n",
        "    filename: the name of the checkpoint file\n",
        "    mode (int): determines where to store the file\n",
        "                --> 0: collab space 1: Google Drive\n",
        "    \"\"\"\n",
        "    if mode == 1: \n",
        "      drive.mount('/content/gdrive')\n",
        "      path = F\"/content/gdrive/My Drive/{filename}\" \n",
        "      torch.save(model.state_dict(), path)\n",
        "    else:\n",
        "      torch.save(model.state_dict(), filename)\n",
        "\n",
        "def export_to_local_drive(filename):\n",
        "    \"\"\"\n",
        "    Download a file to your local machine \n",
        "        \n",
        "    Parameters\n",
        "    ----------\n",
        "    filename: the name of the file\n",
        "    \"\"\"\n",
        "    files.download(filename)\n"
      ],
      "execution_count": null,
      "outputs": []
    },
    {
      "cell_type": "code",
      "metadata": {
        "id": "BJ4s2i736mPX"
      },
      "source": [
        "'''DISPLAY'''\n",
        "display=Display(visible=0, size=(600, 400))\n",
        "display.start()\n",
        "\n",
        "#Define a simple helper function to visualize the episodes\n",
        "def show_video(path):\n",
        "    html = []\n",
        "    for mp4 in Path(path).glob(\"*.mp4\"):\n",
        "        video_b64 = base64.b64encode(mp4.read_bytes())\n",
        "        html.append('''<video alt=\"{}\" autoplay \n",
        "                      controls style=\"height: 400px;\">\n",
        "                      <source src=\"data:video/mp4;base64,{}\" type=\"video/mp4\" />\n",
        "                 </video>'''.format(mp4, video_b64.decode('ascii')))\n",
        "    ipythondisplay.display(ipythondisplay.HTML(data=\"<br>\".join(html)))"
      ],
      "execution_count": null,
      "outputs": []
    },
    {
      "cell_type": "code",
      "metadata": {
        "colab": {
          "base_uri": "https://localhost:8080/",
          "height": 421
        },
        "id": "d6CxifZT5hOJ",
        "outputId": "34ce8b2e-4f99-4f6e-f099-2b4d21bb405b"
      },
      "source": [
        "'''ENVIRONMENT TESTING'''\n",
        "env = gym.make(\"CartPole-v0\")\n",
        "env.seed(0)\n",
        "env = Monitor(env, './video', force=True, video_callable=lambda episode: True)\n",
        "env.reset()\n",
        "done = False\n",
        "while not done:\n",
        "    action = 1\n",
        "    obs, reward, done, info = env.step(action)\n",
        "env.close()\n",
        "show_video('./video')"
      ],
      "execution_count": null,
      "outputs": [
        {
          "output_type": "display_data",
          "data": {
            "text/html": [
              "<video alt=\"video/openaigym.video.1.58.video000000.mp4\" autoplay \n",
              "                      controls style=\"height: 400px;\">\n",
              "                      <source src=\"data:video/mp4;base64,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\" type=\"video/mp4\" />\n",
              "                 </video>"
            ],
            "text/plain": [
              "<IPython.core.display.HTML object>"
            ]
          },
          "metadata": {
            "tags": []
          }
        }
      ]
    },
    {
      "cell_type": "code",
      "metadata": {
        "colab": {
          "base_uri": "https://localhost:8080/"
        },
        "id": "AFxJDFee6OEQ",
        "outputId": "60fcc17b-a4e7-4edc-d46b-97b2debecf6f"
      },
      "source": [
        "print('observation space:',env.observation_space)\n",
        "print('action space:',env.action_space)\n",
        "print('solved_score',env.spec.reward_threshold)\n",
        "\n",
        "env = gym.make('CartPole-v0')                                              \n",
        "reward_goal = env.spec.reward_threshold                                       \n",
        "observations = env.observation_space.shape[0]                                     \n",
        "actions = env.action_space.n      "
      ],
      "execution_count": null,
      "outputs": [
        {
          "output_type": "stream",
          "text": [
            "observation space: Box(-inf, inf, (8,), float32)\n",
            "action space: Discrete(4)\n",
            "solved_score 200\n"
          ],
          "name": "stdout"
        }
      ]
    },
    {
      "cell_type": "markdown",
      "metadata": {
        "id": "aguBJTFN5iOe"
      },
      "source": [
        "# PPO with clipped objective and GAE"
      ]
    },
    {
      "cell_type": "code",
      "metadata": {
        "colab": {
          "base_uri": "https://localhost:8080/",
          "height": 806
        },
        "id": "S2TpruMYFxBu",
        "outputId": "3a0701d5-2187-4b12-a466-79fd86a57406"
      },
      "source": [
        "''' Proximal Policy Optimization '''\n",
        "\n",
        "device=torch.device(\"cuda:0\" if torch.cuda.is_available() else \"cpu\")\n",
        "'''POLICY NETWORK(ACTOR)'''\n",
        "class Policy(nn.Module):                                                        \n",
        "  def __init__(self,observations,actions,hidden_unit1,hidden_unit2):                          \n",
        "    super(Policy,self).__init__()\n",
        "    self.l1 = nn.Linear(observations,hidden_unit1)                                        \n",
        "    self.l2 = nn.Linear(hidden_unit1,hidden_unit2)                                                  \n",
        "    self.l3 = nn.Linear(hidden_unit2,actions)  \n",
        "    self.out = nn.Softmax(dim=-1)                                            \n",
        "\n",
        "  def forward(self,x):                                                          #forward propagation function\n",
        "    if not isinstance(x,torch.Tensor):                                          \n",
        "      x = torch.tensor(x,device=device,dtype=torch.float32)                       \n",
        "      x = x.unsqueeze(0)\n",
        "    x = torch.tanh(self.l1(x))                                                    \n",
        "    x = torch.tanh(self.l2(x))\n",
        "    x = torch.tanh(self.l3(x))\n",
        "    x = self.out(x)\n",
        "    return x    \n",
        "\n",
        "  def action_dist(self, x):\n",
        "    action_probs = self.forward(x)   \n",
        "    dist = Categorical(action_probs)  \n",
        "    return dist\n",
        "\n",
        "  def greedy_action(self, x):\n",
        "    return self.forward(x) \n",
        "\n",
        "''' VALUE (CRITIC) NETWORK '''\n",
        "class Value(nn.Module):\n",
        "  def __init__(self,observations,hidden_unit1,hidden_unit2):                                 \n",
        "    super(Value,self).__init__()\n",
        "    self.l1 = nn.Linear(observations,hidden_unit1)                                         \n",
        "    self.l2 = nn.Linear(hidden_unit1,1)                                                    \n",
        "\n",
        "  def forward(self,x):                                                          #forward propagation function\n",
        "    if not isinstance(x,torch.Tensor):                                          \n",
        "      x = torch.tensor(x,device=device,dtype=torch.float32)                      \n",
        "      x = x.unsqueeze(0)\n",
        "    x = F.relu(self.l1(x))                                                        \n",
        "    x = self.l2(x)\n",
        "    return x  \n",
        "\n",
        "'''PPO AGENT'''\n",
        "class PPOagent():\n",
        "  def __init__(self,observations,actions,hP1,hP2,hV1,hV2,lr_P,\n",
        "               lr_V, buffer_size):\n",
        "    self.policynet = Policy(observations,actions,hP1,hP2).to(device)        #policy-network\n",
        "    self.valuenet = Value(observations,hV1,hV2).to(device)                  #value-network\n",
        "    self.policyOptimizer = optim.Adam(self.policynet.parameters(),lr=lr_P)      \n",
        "    self.valueOptimizer = optim.Adam(self.valuenet.parameters(),lr=lr_V) \n",
        "    self.D=deque(maxlen=buffer_size)   \n",
        "    self.trajectory = namedtuple(\"Trajectory\", field_names=[\"state\", \"action\", \"reward\", \"next_state\", \"log_prob\", \"Advantage\", \"yt\"])     \n",
        "\n",
        "  def learn (self, env, seed, gamma, epsilon, lamda, max_iter,H, mini_batch_size, epochs, reward_goal, entropy_weight):\n",
        "    eval_rewards = []\n",
        "    eval_rewards_mean = []\n",
        "    eval_reward10 = deque(maxlen=5)\n",
        "    for iter in range(max_iter):\n",
        "      self.D.clear()\n",
        "      num_traj = self.collect_trajectory(env,H,gamma,lamda)                                #Collects trajectories and saves into buffer\n",
        "      self.ppo_learn(epsilon, mini_batch_size, epochs, entropy_weight)\n",
        "      self.valueNet_update(mini_batch_size, epochs)\n",
        "      eval_reward=self.evaluation(env) \n",
        "      eval_rewards.append(eval_reward)\n",
        "      eval_reward10.append(eval_reward)\n",
        "      eval_rewards_mean.append(np.mean(eval_reward10))\n",
        "      print('\\r#iterations: {:d} \\t#trajectories: {:d} \\tEvaluation reward: {:.2f} \\tMean Evaluation reward: {:.2f}'.format(iter,num_traj,eval_reward, np.mean(eval_rewards)))\n",
        "      if iter>=10 and np.mean(eval_reward10) >= reward_goal: break\n",
        "    return self.policynet,self.valuenet, eval_rewards, eval_rewards_mean\n",
        "\n",
        "  def collect_trajectory(self, env, H, gamma, lamda):                                   #Collect trajectories to fill the buffer using workers\n",
        "    seeds = random.sample(range(0, 1000), 1000)\n",
        "    num_traj = 0\n",
        "    while True:\n",
        "      env.seed(seeds.pop()) \n",
        "      traj,states = [],[]\n",
        "      s = env.reset()\n",
        "      terminal = False\n",
        "      while not terminal:\n",
        "        s = torch.tensor(s).type(torch.FloatTensor).to(device)\n",
        "        dist = self.policynet.action_dist(s)\n",
        "        action = dist.sample() \n",
        "        action_logprob = dist.log_prob(action).cpu().detach().data.numpy().squeeze()\n",
        "        action = action.cpu().detach().data.numpy().squeeze()\n",
        "        next_state,r,terminal,_ = env.step(int(action))\n",
        "        s = s.cpu().detach().data.numpy().squeeze()\n",
        "        traj.append((s,action,r,next_state,len(traj)+1,action_logprob))\n",
        "        states.append(s)\n",
        "        s = next_state\n",
        "        if len(traj)==H:\n",
        "          break\n",
        "      num_traj +=1\n",
        "      states = torch.from_numpy(np.array(states)).float().to(device)\n",
        "      values = self.valuenet(states).cpu().detach().data.numpy()\n",
        "      self.gae(traj,values,gamma,lamda)\n",
        "      if len(self.D)>=self.D.maxlen: break\n",
        "    return num_traj\n",
        "\n",
        "\n",
        "  def gae(self,traj,values,gamma,lamda):\n",
        "    temp=[]                                                                     #saves the new version of 'trajectory'. The new version will have information about GAE and 'yt'\n",
        "    for experience,index in zip(traj,range(len(traj))):             #loop over all experiences in the trajectory\n",
        "      advantages=[]                                                             #stores the n-step advantage estimates of 'experience' as n=1,2,...end of the episode\n",
        "      temp1=experience[2]-float(values[index])                                  #first and last terms of all n-step advantage estimates are the same and equal to (r(st,at)-Vhatφπ(st))\n",
        "      #comment out the following line to use a TD(λ) target\n",
        "      yt=experience[2]\n",
        "      for n in range(1,len(traj)-experience[4]+1):                        #loops over the trajectory between the point of occurence of 'experience' and the end of the trajectory\n",
        "        #comment out the following line to use a TD(λ) target\n",
        "        yt+=((gamma**n)*traj[index+n][2])                                 #accumulating discounted MC rewards for the value-function target 'yt'\n",
        "        if n==1:                                                                #calculate the 1-step advantage estimate\n",
        "          advantages.append(temp1+(gamma*float(values[index+1])))\n",
        "        else:                                                                   #start computing the n-step advantage estimate where 'n' is at least 2\n",
        "          temp2=0                                                               #saves the sum of all individual terms in the n-step estimate\n",
        "          for j in range(1,n+1):                                                #loop facilitates computation of the values of the individual terms in the n-step estimate\n",
        "            if j!=n:temp2+=((gamma**j)*traj[index+j][2])                  #if this condition is satisfied, we consider only the reward terms             \n",
        "            else:temp2+=((gamma**n)*float(values[index+n]))                     #if j=n, we compute the value of the penultimate term in the n-step estimate, which is Vhatφπ(st+n)\n",
        "          advantages.append(temp1+temp2)                                        #add the last computed estimate to 'advantages'\n",
        "      weights=[(1-lamda)*(lamda**k) for k in range(len(advantages))]            #weights of each n-step estimate is (1-λ)(λ^(n-1))\n",
        "      weightedAdvantages=[weight*advantage for weight,\n",
        "                          advantage in zip(weights,advantages)]                 #weighted sum of all advantage estimates\n",
        "      #comment out the following line to use a TD(λ) target\n",
        "      self.D.append(self.trajectory(experience[0],experience[1],experience[2],experience[3],\n",
        "                   experience[5],sum(weightedAdvantages),yt))                   #yt here is an MC target\n",
        "      #uncomment the following line to use a TD(λ) target\n",
        "      #temp.append((experience[0],experience[1],experience[2],experience[3],experience[5],sum(weightedAdvantages),sum(weightedAdvantages)+value))#yt here is a TD(λ) target\n",
        "    \n",
        "\n",
        "  def ppo_learn(self, epsilon, mini_batch_size, epochs, entropy_weight):\n",
        "    for epoch in range(epochs):\n",
        "      exp_mini_batch = random.sample(self.D, k = mini_batch_size)\n",
        "      states = torch.from_numpy(np.vstack([i.state for i in exp_mini_batch if i is not None])).float().to(device)\n",
        "      actions = torch.from_numpy(np.vstack([i.action for i in exp_mini_batch if i is not None])).long().to(device)\n",
        "      rewards = torch.from_numpy(np.vstack([i.reward for i in exp_mini_batch if i is not None])).float().to(device)\n",
        "      next_states = torch.from_numpy(np.vstack([i.next_state for i in exp_mini_batch if i is not None])).float().to(device)\n",
        "      log_probs = torch.from_numpy(np.vstack([i.log_prob for i in exp_mini_batch if i is not None])).float().to(device)\n",
        "      advantages = torch.from_numpy(np.vstack([i.Advantage for i in exp_mini_batch if i is not None])).float().to(device)\n",
        "      yts = torch.from_numpy(np.vstack([i.yt for i in exp_mini_batch if i is not None])).float().to(device)\n",
        "\n",
        "      dist_new = self.policynet.action_dist(states)\n",
        "      action_logprob_new = dist_new.log_prob(actions.T)\n",
        "      ratio = (torch.flatten(action_logprob_new)-torch.flatten(log_probs)).exp() #Numerically more stable\n",
        "      Obj_fn = torch.min(ratio*torch.flatten(advantages),torch.clamp(ratio,1-epsilon,1+epsilon)*torch.flatten(advantages)).mean() \n",
        "      entropy=dist_new.entropy().mean() \n",
        "      ppo_loss = -Obj_fn - entropy*entropy_weight\n",
        "      self.policyOptimizer.zero_grad()                                          #set all gradients to zero before gradient descent\n",
        "      ppo_loss.backward()                                                     #perform backpropagation to compute the gradients\n",
        "      self.policyOptimizer.step() \n",
        "      \n",
        "  def valueNet_update(self,mini_batch_size, epochs):\n",
        "    for epoch in range(epochs):\n",
        "      exp_mini_batch = random.sample(self.D, k = mini_batch_size)\n",
        "      states = torch.from_numpy(np.vstack([i.state for i in exp_mini_batch if i is not None])).float().to(device)\n",
        "      actions = torch.from_numpy(np.vstack([i.action for i in exp_mini_batch if i is not None])).long().to(device)\n",
        "      rewards = torch.from_numpy(np.vstack([i.reward for i in exp_mini_batch if i is not None])).float().to(device)\n",
        "      next_states = torch.from_numpy(np.vstack([i.next_state for i in exp_mini_batch if i is not None])).float().to(device)\n",
        "      log_probs = torch.from_numpy(np.vstack([i.log_prob for i in exp_mini_batch if i is not None])).float().to(device)\n",
        "      advantages = torch.from_numpy(np.vstack([i.Advantage for i in exp_mini_batch if i is not None])).float().to(device)\n",
        "      yts = torch.from_numpy(np.vstack([i.yt for i in exp_mini_batch if i is not None])).float().to(device)\n",
        "      values=self.valuenet(states)\n",
        "      value_loss=((torch.flatten(yts)-torch.flatten(values))**2).mean()\n",
        "      self.valueOptimizer.zero_grad()\n",
        "      value_loss.backward()\n",
        "      self.valueOptimizer.step() \n",
        "\n",
        "  def evaluation(self,env):\n",
        "    s = env.reset()\n",
        "    terminal = False\n",
        "    rewards = []\n",
        "    rewards.append(0)\n",
        "    while not terminal:\n",
        "      s = torch.tensor(s).type(torch.FloatTensor).to(device)\n",
        "      dis = self.policynet.greedy_action(s)\n",
        "      action = np.argmax(dis.cpu().data.numpy())\n",
        "      next_state,r,terminal,_=env.step(action)\n",
        "      rewards[-1]+=r\n",
        "      s = next_state\n",
        "    return (np.mean(rewards))\n",
        "\n",
        "#env = gym.make('LunarLander-v2')                                              \n",
        "reward_goal = env.spec.reward_threshold                                       \n",
        "observations = env.observation_space.shape[0]                                     \n",
        "actions = env.action_space.n                                               \n",
        "H = 1000                                               \n",
        "hP1,hP2 = 100,100                                                      \n",
        "hV1,hV2 = 64,64                                                       \n",
        "max_iter = 100                                                               \n",
        "buffer_size = 5000                                                                     \n",
        "lr_P = 5e-4                                                                     \n",
        "lr_V = 1e-2                                                                     \n",
        "seed = 0                                                                          \n",
        "gamma = 0.99                                                                      \n",
        "lamda = 0.96                                                                      \n",
        "mini_batch_size = 500                                                                        \n",
        "epochs = 20                                                                       \n",
        "epsilon = 2e-1                                                                    \n",
        "entropy_weight=5e-3                                                              \n",
        "\n",
        "\n",
        "\n",
        "\"\"\"PPO\"\"\"\n",
        "agent = PPOagent(observations,actions,hP1,hP2,hV1,hV2,lr_P,lr_V, buffer_size)\n",
        "policyModel,valueModel, eval_rewards_PPO, eval_rewards_mean_PPO = agent.learn(env, seed, gamma, epsilon, lamda, max_iter,H, mini_batch_size, epochs, reward_goal, entropy_weight)\n",
        "\n",
        "\n",
        "plt.figure(0)\n",
        "plt.plot(eval_rewards_PPO)\n",
        "plt.ylabel(\"Evaluation reward\",fontsize=16)\n",
        "plt.xlabel(\"Iterations\",fontsize=16)\n",
        "\n",
        "plt.figure(1)\n",
        "plt.plot(eval_rewards_mean_PPO)\n",
        "plt.ylabel(\"Mean evaluation reward\",fontsize=16)\n",
        "plt.xlabel(\"Iterations\",fontsize=16)\n",
        "   \n"
      ],
      "execution_count": null,
      "outputs": [
        {
          "output_type": "stream",
          "text": [
            "#iterations: 0 \t#trajectories: 224 \tEvaluation reward: 36.00 \tMean Evaluation reward: 36.00\n",
            "#iterations: 1 \t#trajectories: 155 \tEvaluation reward: 108.00 \tMean Evaluation reward: 72.00\n",
            "#iterations: 2 \t#trajectories: 111 \tEvaluation reward: 200.00 \tMean Evaluation reward: 114.67\n",
            "#iterations: 3 \t#trajectories: 65 \tEvaluation reward: 200.00 \tMean Evaluation reward: 136.00\n",
            "#iterations: 4 \t#trajectories: 47 \tEvaluation reward: 200.00 \tMean Evaluation reward: 148.80\n",
            "#iterations: 5 \t#trajectories: 41 \tEvaluation reward: 200.00 \tMean Evaluation reward: 157.33\n",
            "#iterations: 6 \t#trajectories: 40 \tEvaluation reward: 200.00 \tMean Evaluation reward: 163.43\n",
            "#iterations: 7 \t#trajectories: 30 \tEvaluation reward: 197.00 \tMean Evaluation reward: 167.62\n",
            "#iterations: 8 \t#trajectories: 33 \tEvaluation reward: 137.00 \tMean Evaluation reward: 164.22\n",
            "#iterations: 9 \t#trajectories: 36 \tEvaluation reward: 200.00 \tMean Evaluation reward: 167.80\n",
            "#iterations: 10 \t#trajectories: 30 \tEvaluation reward: 200.00 \tMean Evaluation reward: 170.73\n",
            "#iterations: 11 \t#trajectories: 29 \tEvaluation reward: 200.00 \tMean Evaluation reward: 173.17\n",
            "#iterations: 12 \t#trajectories: 29 \tEvaluation reward: 200.00 \tMean Evaluation reward: 175.23\n",
            "#iterations: 13 \t#trajectories: 30 \tEvaluation reward: 200.00 \tMean Evaluation reward: 177.00\n"
          ],
          "name": "stdout"
        },
        {
          "output_type": "execute_result",
          "data": {
            "text/plain": [
              "Text(0.5, 0, 'Iterations')"
            ]
          },
          "metadata": {
            "tags": []
          },
          "execution_count": 14
        },
        {
          "output_type": "display_data",
          "data": {
            "image/png": "[encoded data removed]",
            "text/plain": [
              "<Figure size 432x288 with 1 Axes>"
            ]
          },
          "metadata": {
            "tags": [],
            "needs_background": "light"
          }
        },
        {
          "output_type": "display_data",
          "data": {
            "image/png": "[encoded data removed]",
            "text/plain": [
              "<Figure size 432x288 with 1 Axes>"
            ]
          },
          "metadata": {
            "tags": [],
            "needs_background": "light"
          }
        }
      ]
    },
    {
      "cell_type": "markdown",
      "metadata": {
        "id": "V35a0hAbGRhH"
      },
      "source": [
        "# NEURAL EVOLUTION STRATEGIES"
      ]
    },
    {
      "cell_type": "code",
      "metadata": {
        "colab": {
          "base_uri": "https://localhost:8080/",
          "height": 1000
        },
        "id": "sba2GHIZBrsc",
        "outputId": "ba851000-e4b5-4c99-e1f0-c2d976aee990"
      },
      "source": [
        "''' Neural Evolution Strategies '''\n",
        "device=torch.device(\"cuda:0\" if torch.cuda.is_available() else \"cpu\")\n",
        "class Network(nn.Module):                                                        \n",
        "  def __init__(self,observations,actions,hidden_unit1,hidden_unit2):                          \n",
        "    super(Network,self).__init__()\n",
        "    self.l1 = nn.Linear(observations,hidden_unit1)                                        \n",
        "    self.l2 = nn.Linear(hidden_unit1,hidden_unit2)                                                  \n",
        "    self.l3 = nn.Linear(hidden_unit2,actions)  \n",
        "    self.out = nn.Softmax(dim=-1)                                            \n",
        "\n",
        "  def forward(self,x):                                                          #forward propagation function\n",
        "    if not isinstance(x,torch.Tensor):                                          \n",
        "      x = torch.tensor(x,device=device,dtype=torch.float32)                       \n",
        "      x = x.unsqueeze(0)\n",
        "    x = torch.tanh(self.l1(x))                                                    \n",
        "    x = torch.tanh(self.l2(x))\n",
        "    x = torch.tanh(self.l3(x))\n",
        "    x = self.out(x)\n",
        "    return x    \n",
        "\n",
        "class NES_agent():\n",
        "  def __init__(self,observations,actions,hP1,hP2):\n",
        "    self.net = Network(observations,actions,hP1,hP2).to(device) \n",
        "    self.copy_net = Network(observations,actions,hP1,hP2).to(device) \n",
        "\n",
        "  def ES_train(self, env, lr, sigma, gamma, max_iter, seed, n_epsilon, reward_goal):\n",
        "    self.sigma = sigma\n",
        "    eval_rewards = []\n",
        "    eval_reward10 = deque(maxlen=10) \n",
        "    eval_reward_mean = []\n",
        "    for i in range(max_iter):\n",
        "      epsilons, new_thetas = self.perturbations(sigma, n_epsilon)\n",
        "      returns = self.get_return(new_thetas, gamma)\n",
        "      new_weight = self.update_theta (returns, epsilons, sigma, n_epsilon, lr)\n",
        "      eval_reward = self.evaluation(env) \n",
        "      eval_reward10.append(eval_reward)\n",
        "      eval_rewards.append(eval_reward)\n",
        "      eval_reward_mean.append(np.mean(eval_reward10))\n",
        "      print(eval_reward)\n",
        "      #print('\\r#iterations: {:d} \\tEvaluation reward: {:.2f} \\tMean Evaluation reward: {:.2f}'.format(i,eval_reward, np.mean(eval_rewards)))\n",
        "      if np.mean(eval_reward10) >= reward_goal/2: break\n",
        "    return self.net, eval_rewards, eval_reward_mean\n",
        "\n",
        "\n",
        "  def perturbations(self, sigma, n_epsilon):\n",
        "    params = self.net.state_dict()\n",
        "    epsilons = []\n",
        "    new_thetas = []\n",
        "    for i in range(n_epsilon):\n",
        "      params_copy = copy.deepcopy(params)\n",
        "      epsilon = copy.deepcopy(params)\n",
        "      for param_tensor in params_copy:\n",
        "        epsilon[param_tensor] = torch.randn(epsilon[param_tensor].shape)\n",
        "        params_copy[param_tensor] += sigma * epsilon[param_tensor].to(device)\n",
        "      epsilons.append(epsilon)\n",
        "      new_thetas.append(params_copy)\n",
        "    return epsilons, new_thetas\n",
        "\n",
        "  def get_return (self, new_thetas, gamma):\n",
        "    returns = []\n",
        "    for i in range (len(new_thetas)):\n",
        "      theta = new_thetas[i]\n",
        "      self.copy_net.load_state_dict(theta)\n",
        "      s = env.reset()\n",
        "      terminal = False\n",
        "      returns.append(0.0)\n",
        "      count = 0\n",
        "      while not terminal:\n",
        "        s = torch.tensor(s).type(torch.FloatTensor).to(device)\n",
        "        Q = self.copy_net(s).cpu().detach().data.numpy().squeeze()\n",
        "        action = np.argmax(Q)\n",
        "        s, r, terminal,_ = env.step(action)\n",
        "        returns[-1] += pow(gamma, count) * r\n",
        "        count += 1\n",
        "    return returns\n",
        "\n",
        "  def update_theta (self,returns, epsilons, sigma, n_epsilon, lr):\n",
        "    returns = torch.Tensor(returns).to(device)\n",
        "    params = self.net.state_dict()\n",
        "    params_copy = copy.deepcopy(params)\n",
        "    for param_tensor in params_copy:\n",
        "      sum_t = torch.zeros((epsilons[0][param_tensor].shape)).to(device)\n",
        "      for i in range(len(returns)):\n",
        "        sum_t += returns[i] * epsilons[i][param_tensor].to(device)\n",
        "      params_copy[param_tensor] += (lr/(n_epsilon * sigma)) * sum_t\n",
        "    self.net.load_state_dict(params_copy)\n",
        "\n",
        "  def evaluation(self,env):\n",
        "    returns = []\n",
        "    s = env.reset()\n",
        "    terminal = False\n",
        "    returns.append(0)\n",
        "    count = 0\n",
        "    while not terminal:\n",
        "      s = torch.tensor(s).type(torch.FloatTensor).to(device)\n",
        "      Q = self.copy_net(s).cpu().detach().data.numpy().squeeze()\n",
        "      action = np.argmax(Q)\n",
        "      s, r, terminal,_ = env.step(action)\n",
        "      returns[-1] += r\n",
        "      count += 1\n",
        "    return returns\n",
        "\n",
        "\n",
        "                                              \n",
        "H = 1000                                               \n",
        "hP1,hP2 = 100,100                                                      \n",
        "max_iter = 500                                                               \n",
        "lr = 0.00025                                                                     \n",
        "seed = 0                                                                          \n",
        "gamma = 0.999    \n",
        "sigma = 0.1 \n",
        "n_epsilon = 100                                                                 \n",
        "\n",
        "\n",
        "\n",
        "\"\"\"NES\"\"\"\n",
        "agent = NES_agent(observations,actions,hP1,hP2)\n",
        "Model, eval_rewards_NES, eval_rewards_mean_NES = agent.ES_train(env, lr, sigma, gamma, max_iter, seed, n_epsilon, reward_goal)\n",
        "\n",
        "plt.figure(0)\n",
        "plt.plot(eval_rewards_NES)\n",
        "plt.ylabel(\"Evaluation reward\",fontsize=16)\n",
        "plt.xlabel(\"Iterations\",fontsize=16)\n",
        "\n",
        "plt.figure(1)\n",
        "plt.plot(eval_rewards_mean_NES)\n",
        "plt.ylabel(\"Mean evaluation reward\",fontsize=16)\n",
        "plt.xlabel(\"Iterations\",fontsize=16)\n",
        "   \n",
        "\n"
      ],
      "execution_count": null,
      "outputs": [
        {
          "output_type": "stream",
          "text": [
            "[10.0]\n",
            "[10.0]\n",
            "[12.0]\n",
            "[9.0]\n",
            "[68.0]\n",
            "[24.0]\n",
            "[27.0]\n",
            "[25.0]\n",
            "[10.0]\n",
            "[17.0]\n",
            "[21.0]\n",
            "[10.0]\n",
            "[29.0]\n",
            "[76.0]\n",
            "[18.0]\n",
            "[12.0]\n",
            "[112.0]\n",
            "[29.0]\n",
            "[34.0]\n",
            "[24.0]\n",
            "[14.0]\n",
            "[14.0]\n",
            "[177.0]\n",
            "[11.0]\n",
            "[192.0]\n",
            "[200.0]\n",
            "[115.0]\n",
            "[200.0]\n"
          ],
          "name": "stdout"
        },
        {
          "output_type": "execute_result",
          "data": {
            "text/plain": [
              "Text(0.5, 0, 'Iterations')"
            ]
          },
          "metadata": {
            "tags": []
          },
          "execution_count": 20
        },
        {
          "output_type": "display_data",
          "data": {
            "image/png": "[encoded data removed]",
            "text/plain": [
              "<Figure size 432x288 with 1 Axes>"
            ]
          },
          "metadata": {
            "tags": [],
            "needs_background": "light"
          }
        },
        {
          "output_type": "display_data",
          "data": {
            "image/png": "[encoded data removed]",
            "text/plain": [
              "<Figure size 432x288 with 1 Axes>"
            ]
          },
          "metadata": {
            "tags": [],
            "needs_background": "light"
          }
        }
      ]
    },
    {
      "cell_type": "markdown",
      "metadata": {
        "id": "EaJ3nXePHI0P"
      },
      "source": [
        "# PPO - NES "
      ]
    },
    {
      "cell_type": "code",
      "metadata": {
        "id": "ib3umhdG7iei",
        "colab": {
          "base_uri": "https://localhost:8080/",
          "height": 755
        },
        "outputId": "59073472-33c5-4c15-d2d3-66c6b78fb51c"
      },
      "source": [
        "''' Proximal Policy Optimization - NES '''\n",
        "\n",
        "device=torch.device(\"cuda:0\" if torch.cuda.is_available() else \"cpu\")\n",
        "'''POLICY NETWORK(ACTOR)'''\n",
        "class Policy(nn.Module):                                                        \n",
        "  def __init__(self,observations,actions,hidden_unit1,hidden_unit2):                          \n",
        "    super(Policy,self).__init__()\n",
        "    self.l1 = nn.Linear(observations,hidden_unit1)                                        \n",
        "    self.l2 = nn.Linear(hidden_unit1,hidden_unit2)                                                  \n",
        "    self.l3 = nn.Linear(hidden_unit2,actions)  \n",
        "    self.out = nn.Softmax(dim=-1)                                            \n",
        "\n",
        "  def forward(self,x):                                                          #forward propagation function\n",
        "    if not isinstance(x,torch.Tensor):                                          \n",
        "      x = torch.tensor(x,device=device,dtype=torch.float32)                       \n",
        "      x = x.unsqueeze(0)\n",
        "    x = torch.tanh(self.l1(x))                                                    \n",
        "    x = torch.tanh(self.l2(x))\n",
        "    x = torch.tanh(self.l3(x))\n",
        "    x = self.out(x)\n",
        "    return x    \n",
        "\n",
        "  def action_dist(self, x):\n",
        "    action_probs = self.forward(x)   \n",
        "    dist = Categorical(action_probs)  \n",
        "    return dist\n",
        "\n",
        "  def greedy_action(self, x):\n",
        "    return self.forward(x) \n",
        "\n",
        "''' VALUE (CRITIC) NETWORK '''\n",
        "class Value(nn.Module):\n",
        "  def __init__(self,observations,hidden_unit1,hidden_unit2):                                 \n",
        "    super(Value,self).__init__()\n",
        "    self.l1 = nn.Linear(observations,hidden_unit1)                                         \n",
        "    self.l2 = nn.Linear(hidden_unit1,1)                                                    \n",
        "\n",
        "  def forward(self,x):                                                          #forward propagation function\n",
        "    if not isinstance(x,torch.Tensor):                                          \n",
        "      x = torch.tensor(x,device=device,dtype=torch.float32)                      \n",
        "      x = x.unsqueeze(0)\n",
        "    x = F.relu(self.l1(x))                                                        \n",
        "    x = self.l2(x)\n",
        "    return x  \n",
        "\n",
        "'''PPO AGENT'''\n",
        "class PPOagent():\n",
        "  def __init__(self,observations,actions,hP1,hP2,hV1,hV2,lr_P,\n",
        "               lr_V, buffer_size):\n",
        "    self.policynet = Policy(observations,actions,hP1,hP2).to(device)        #policy-network\n",
        "    self.valuenet = Value(observations,hV1,hV2).to(device)                  #value-network\n",
        "    self.policyOptimizer = optim.Adam(self.policynet.parameters(),lr=lr_P)      \n",
        "    self.valueOptimizer = optim.Adam(self.valuenet.parameters(),lr=lr_V) \n",
        "    self.D=deque(maxlen=buffer_size)   \n",
        "    self.trajectory = namedtuple(\"Trajectory\", field_names=[\"state\", \"action\", \"reward\", \"next_state\", \"log_prob\", \"Advantage\", \"yt\"])     \n",
        "\n",
        "  def learn (self, env, seed, gamma, epsilon, lamda, max_iter,H, mini_batch_size, epochs, reward_goal, entropy_weight, NES_weights):\n",
        "    self.policynet.load_state_dict(NES_weights)\n",
        "    eval_rewards = []\n",
        "    eval_rewards_mean = []\n",
        "    eval_reward10 = deque(maxlen=5)\n",
        "    for iter in range(max_iter):\n",
        "      self.D.clear()\n",
        "      num_traj = self.collect_trajectory(env,H,gamma,lamda)                                #Collects trajectories and saves into buffer\n",
        "      self.ppo_learn(epsilon, mini_batch_size, epochs, entropy_weight)\n",
        "      self.valueNet_update(mini_batch_size, epochs)\n",
        "      eval_reward=self.evaluation(env) \n",
        "      eval_rewards.append(eval_reward)\n",
        "      eval_reward10.append(eval_reward)\n",
        "      eval_rewards_mean.append(np.mean(eval_reward10))\n",
        "      print('\\r#iterations: {:d} \\t#trajectories: {:d} \\tEvaluation reward: {:.2f} \\tMean Evaluation reward: {:.2f}'.format(iter,num_traj,eval_reward, np.mean(eval_rewards)))\n",
        "      if iter>=5 and np.mean(eval_reward10) >= reward_goal: break\n",
        "    return self.policynet,self.valuenet, eval_rewards, eval_rewards_mean\n",
        "\n",
        "  def collect_trajectory(self, env, H, gamma, lamda):                                   #Collect trajectories to fill the buffer using workers\n",
        "    seeds = random.sample(range(0, 1000), 1000)\n",
        "    num_traj = 0\n",
        "    while True:\n",
        "      env.seed(seeds.pop()) \n",
        "      traj,states = [],[]\n",
        "      s = env.reset()\n",
        "      terminal = False\n",
        "      while not terminal:\n",
        "        s = torch.tensor(s).type(torch.FloatTensor).to(device)\n",
        "        dist = self.policynet.action_dist(s)\n",
        "        action = dist.sample() \n",
        "        action_logprob = dist.log_prob(action).cpu().detach().data.numpy().squeeze()\n",
        "        action = action.cpu().detach().data.numpy().squeeze()\n",
        "        next_state,r,terminal,_ = env.step(int(action))\n",
        "        s = s.cpu().detach().data.numpy().squeeze()\n",
        "        traj.append((s,action,r,next_state,len(traj)+1,action_logprob))\n",
        "        states.append(s)\n",
        "        s = next_state\n",
        "        if len(traj)==H:\n",
        "          break\n",
        "      num_traj +=1\n",
        "      states = torch.from_numpy(np.array(states)).float().to(device)\n",
        "      values = self.valuenet(states).cpu().detach().data.numpy()\n",
        "      self.gae(traj,values,gamma,lamda)\n",
        "      if len(self.D)>=self.D.maxlen: break\n",
        "    return num_traj\n",
        "\n",
        "\n",
        "  def gae(self,traj,values,gamma,lamda):\n",
        "    temp=[]                                                                     #saves the new version of 'trajectory'. The new version will have information about GAE and 'yt'\n",
        "    for experience,index in zip(traj,range(len(traj))):             #loop over all experiences in the trajectory\n",
        "      advantages=[]                                                             #stores the n-step advantage estimates of 'experience' as n=1,2,...end of the episode\n",
        "      temp1=experience[2]-float(values[index])                                  #first and last terms of all n-step advantage estimates are the same and equal to (r(st,at)-Vhatφπ(st))\n",
        "      #comment out the following line to use a TD(λ) target\n",
        "      yt=experience[2]\n",
        "      for n in range(1,len(traj)-experience[4]+1):                        #loops over the trajectory between the point of occurence of 'experience' and the end of the trajectory\n",
        "        #comment out the following line to use a TD(λ) target\n",
        "        yt+=((gamma**n)*traj[index+n][2])                                 #accumulating discounted MC rewards for the value-function target 'yt'\n",
        "        if n==1:                                                                #calculate the 1-step advantage estimate\n",
        "          advantages.append(temp1+(gamma*float(values[index+1])))\n",
        "        else:                                                                   #start computing the n-step advantage estimate where 'n' is at least 2\n",
        "          temp2=0                                                               #saves the sum of all individual terms in the n-step estimate\n",
        "          for j in range(1,n+1):                                                #loop facilitates computation of the values of the individual terms in the n-step estimate\n",
        "            if j!=n:temp2+=((gamma**j)*traj[index+j][2])                  #if this condition is satisfied, we consider only the reward terms             \n",
        "            else:temp2+=((gamma**n)*float(values[index+n]))                     #if j=n, we compute the value of the penultimate term in the n-step estimate, which is Vhatφπ(st+n)\n",
        "          advantages.append(temp1+temp2)                                        #add the last computed estimate to 'advantages'\n",
        "      weights=[(1-lamda)*(lamda**k) for k in range(len(advantages))]            #weights of each n-step estimate is (1-λ)(λ^(n-1))\n",
        "      weightedAdvantages=[weight*advantage for weight,\n",
        "                          advantage in zip(weights,advantages)]                 #weighted sum of all advantage estimates\n",
        "      #comment out the following line to use a TD(λ) target\n",
        "      self.D.append(self.trajectory(experience[0],experience[1],experience[2],experience[3],\n",
        "                   experience[5],sum(weightedAdvantages),yt))                   #yt here is an MC target\n",
        "      #uncomment the following line to use a TD(λ) target\n",
        "      #temp.append((experience[0],experience[1],experience[2],experience[3],experience[5],sum(weightedAdvantages),sum(weightedAdvantages)+value))#yt here is a TD(λ) target\n",
        "    \n",
        "\n",
        "  def ppo_learn(self, epsilon, mini_batch_size, epochs, entropy_weight):\n",
        "    for epoch in range(epochs):\n",
        "      exp_mini_batch = random.sample(self.D, k = mini_batch_size)\n",
        "      states = torch.from_numpy(np.vstack([i.state for i in exp_mini_batch if i is not None])).float().to(device)\n",
        "      actions = torch.from_numpy(np.vstack([i.action for i in exp_mini_batch if i is not None])).long().to(device)\n",
        "      rewards = torch.from_numpy(np.vstack([i.reward for i in exp_mini_batch if i is not None])).float().to(device)\n",
        "      next_states = torch.from_numpy(np.vstack([i.next_state for i in exp_mini_batch if i is not None])).float().to(device)\n",
        "      log_probs = torch.from_numpy(np.vstack([i.log_prob for i in exp_mini_batch if i is not None])).float().to(device)\n",
        "      advantages = torch.from_numpy(np.vstack([i.Advantage for i in exp_mini_batch if i is not None])).float().to(device)\n",
        "      yts = torch.from_numpy(np.vstack([i.yt for i in exp_mini_batch if i is not None])).float().to(device)\n",
        "\n",
        "      dist_new = self.policynet.action_dist(states)\n",
        "      action_logprob_new = dist_new.log_prob(actions.T)\n",
        "      ratio = (torch.flatten(action_logprob_new)-torch.flatten(log_probs)).exp() #Numerically more stable\n",
        "      Obj_fn = torch.min(ratio*torch.flatten(advantages),torch.clamp(ratio,1-epsilon,1+epsilon)*torch.flatten(advantages)).mean() \n",
        "      entropy=dist_new.entropy().mean() \n",
        "      ppo_loss = -Obj_fn - entropy*entropy_weight\n",
        "      self.policyOptimizer.zero_grad()                                          #set all gradients to zero before gradient descent\n",
        "      ppo_loss.backward()                                                     #perform backpropagation to compute the gradients\n",
        "      self.policyOptimizer.step() \n",
        "      \n",
        "  def valueNet_update(self,mini_batch_size, epochs):\n",
        "    for epoch in range(epochs):\n",
        "      exp_mini_batch = random.sample(self.D, k = mini_batch_size)\n",
        "      states = torch.from_numpy(np.vstack([i.state for i in exp_mini_batch if i is not None])).float().to(device)\n",
        "      actions = torch.from_numpy(np.vstack([i.action for i in exp_mini_batch if i is not None])).long().to(device)\n",
        "      rewards = torch.from_numpy(np.vstack([i.reward for i in exp_mini_batch if i is not None])).float().to(device)\n",
        "      next_states = torch.from_numpy(np.vstack([i.next_state for i in exp_mini_batch if i is not None])).float().to(device)\n",
        "      log_probs = torch.from_numpy(np.vstack([i.log_prob for i in exp_mini_batch if i is not None])).float().to(device)\n",
        "      advantages = torch.from_numpy(np.vstack([i.Advantage for i in exp_mini_batch if i is not None])).float().to(device)\n",
        "      yts = torch.from_numpy(np.vstack([i.yt for i in exp_mini_batch if i is not None])).float().to(device)\n",
        "      values=self.valuenet(states)\n",
        "      value_loss=((torch.flatten(yts)-torch.flatten(values))**2).mean()\n",
        "      self.valueOptimizer.zero_grad()\n",
        "      value_loss.backward()\n",
        "      self.valueOptimizer.step() \n",
        "\n",
        "  def evaluation(self,env):\n",
        "    s = env.reset()\n",
        "    terminal = False\n",
        "    rewards = []\n",
        "    rewards.append(0)\n",
        "    while not terminal:\n",
        "      s = torch.tensor(s).type(torch.FloatTensor).to(device)\n",
        "      dis = self.policynet.greedy_action(s)\n",
        "      action = np.argmax(dis.cpu().data.numpy())\n",
        "      next_state,r,terminal,_=env.step(action)\n",
        "      rewards[-1]+=r\n",
        "      s = next_state\n",
        "    return (np.mean(rewards))\n",
        "\n",
        "#env = gym.make('LunarLander-v2')                                              \n",
        "reward_goal = env.spec.reward_threshold                                       \n",
        "observations = env.observation_space.shape[0]                                     \n",
        "actions = env.action_space.n                                               \n",
        "H = 1000                                               \n",
        "hP1,hP2 = 100,100                                                      \n",
        "hV1,hV2 = 64,64                                                       \n",
        "max_iter = 100                                                               \n",
        "buffer_size = 5000                                                                     \n",
        "lr_P = 5e-4                                                                     \n",
        "lr_V = 1e-2                                                                     \n",
        "seed = 0                                                                          \n",
        "gamma = 0.99                                                                      \n",
        "lamda = 0.96                                                                      \n",
        "mini_batch_size = 500                                                                        \n",
        "epochs = 20                                                                       \n",
        "epsilon = 2e-1                                                                    \n",
        "entropy_weight=5e-3                                                              \n",
        "\n",
        "\n",
        "\n",
        "\"\"\"PPO\"\"\"\n",
        "NES_weights = Model.state_dict()\n",
        "agent = PPOagent(observations,actions,hP1,hP2,hV1,hV2,lr_P,lr_V, buffer_size)\n",
        "policyModel,valueModel, eval_rewards_ppo_es, eval_rewards_mean_ppo_es = agent.learn(env, seed, gamma, epsilon, lamda, max_iter,H, mini_batch_size, epochs, reward_goal, entropy_weight, NES_weights)\n",
        "\n",
        "\n",
        "plt.figure(0)\n",
        "plt.plot(eval_rewards_ppo_es)\n",
        "plt.ylabel(\"Evaluation reward\",fontsize=16)\n",
        "plt.xlabel(\"Iterations\",fontsize=16)\n",
        "\n",
        "plt.figure(1)\n",
        "plt.plot(eval_rewards_mean_ppo_es)\n",
        "plt.ylabel(\"Mean evaluation reward\",fontsize=16)\n",
        "plt.xlabel(\"Iterations\",fontsize=16)\n",
        "   \n"
      ],
      "execution_count": null,
      "outputs": [
        {
          "output_type": "stream",
          "text": [
            "#iterations: 0 \t#trajectories: 50 \tEvaluation reward: 192.00 \tMean Evaluation reward: 192.00\n",
            "#iterations: 1 \t#trajectories: 41 \tEvaluation reward: 200.00 \tMean Evaluation reward: 196.00\n",
            "#iterations: 2 \t#trajectories: 35 \tEvaluation reward: 200.00 \tMean Evaluation reward: 197.33\n",
            "#iterations: 3 \t#trajectories: 37 \tEvaluation reward: 191.00 \tMean Evaluation reward: 195.75\n",
            "#iterations: 4 \t#trajectories: 34 \tEvaluation reward: 200.00 \tMean Evaluation reward: 196.60\n",
            "#iterations: 5 \t#trajectories: 43 \tEvaluation reward: 168.00 \tMean Evaluation reward: 191.83\n",
            "#iterations: 6 \t#trajectories: 45 \tEvaluation reward: 200.00 \tMean Evaluation reward: 193.00\n",
            "#iterations: 7 \t#trajectories: 37 \tEvaluation reward: 200.00 \tMean Evaluation reward: 193.88\n",
            "#iterations: 8 \t#trajectories: 32 \tEvaluation reward: 200.00 \tMean Evaluation reward: 194.56\n",
            "#iterations: 9 \t#trajectories: 30 \tEvaluation reward: 200.00 \tMean Evaluation reward: 195.10\n",
            "#iterations: 10 \t#trajectories: 28 \tEvaluation reward: 200.00 \tMean Evaluation reward: 195.55\n"
          ],
          "name": "stdout"
        },
        {
          "output_type": "execute_result",
          "data": {
            "text/plain": [
              "Text(0.5, 0, 'Iterations')"
            ]
          },
          "metadata": {
            "tags": []
          },
          "execution_count": 23
        },
        {
          "output_type": "display_data",
          "data": {
            "image/png": "[encoded data removed]",
            "text/plain": [
              "<Figure size 432x288 with 1 Axes>"
            ]
          },
          "metadata": {
            "tags": [],
            "needs_background": "light"
          }
        },
        {
          "output_type": "display_data",
          "data": {
            "image/png": "[encoded data removed]",
            "text/plain": [
              "<Figure size 432x288 with 1 Axes>"
            ]
          },
          "metadata": {
            "tags": [],
            "needs_background": "light"
          }
        }
      ]
    },
    {
      "cell_type": "markdown",
      "metadata": {
        "id": "jfHUaHs3H7Fm"
      },
      "source": [
        "# COMPARISON - COMBINING ALL PLOTS\n",
        "\n",
        "\n"
      ]
    },
    {
      "cell_type": "code",
      "metadata": {
        "colab": {
          "base_uri": "https://localhost:8080/",
          "height": 568
        },
        "id": "5uh94iqNHzow",
        "outputId": "9173b017-5c06-4749-bbbc-bbbdd67c4353"
      },
      "source": [
        "plt.figure(0)\n",
        "plt.plot(eval_rewards_PPO, label = 'PPO')\n",
        "plt.plot(eval_rewards_NES, label = 'NES')\n",
        "plt.plot(eval_rewards_ppo_es, label = 'PPO-NES')\n",
        "plt.legend()\n",
        "plt.ylabel(\"Evaluation reward\",fontsize=16)\n",
        "plt.xlabel(\"Iterations\",fontsize=16)\n",
        "\n",
        "plt.figure(1)\n",
        "plt.plot(eval_rewards_mean_PPO, label = 'PPO')\n",
        "plt.plot(eval_rewards_mean_NES, label = 'NES')\n",
        "plt.plot(eval_rewards_mean_ppo_es, label = 'PPO-NES')\n",
        "plt.legend()\n",
        "plt.ylabel(\"Mean evaluation reward\",fontsize=16)\n",
        "plt.xlabel(\"Iterations\",fontsize=16)"
      ],
      "execution_count": null,
      "outputs": [
        {
          "output_type": "execute_result",
          "data": {
            "text/plain": [
              "Text(0.5, 0, 'Iterations')"
            ]
          },
          "metadata": {
            "tags": []
          },
          "execution_count": 26
        },
        {
          "output_type": "display_data",
          "data": {
            "image/png": "[encoded data removed]",
            "text/plain": [
              "<Figure size 432x288 with 1 Axes>"
            ]
          },
          "metadata": {
            "tags": [],
            "needs_background": "light"
          }
        },
        {
          "output_type": "display_data",
          "data": {
            "image/png": "[encoded data removed]",
            "text/plain": [
              "<Figure size 432x288 with 1 Axes>"
            ]
          },
          "metadata": {
            "tags": [],
            "needs_background": "light"
          }
        }
      ]
    },
    {
      "cell_type": "markdown",
      "metadata": {
        "id": "ensWVtMwH1mN"
      },
      "source": [
        "# Testing"
      ]
    },
    {
      "cell_type": "code",
      "metadata": {
        "id": "um_qj5fzDoGP"
      },
      "source": [
        "\n",
        "terminal = False\n",
        "rewards = []\n",
        "rewards.append(0)\n",
        "env = Monitor(env, './video', force=True, video_callable=lambda episode: True)\n",
        "s = env.reset()\n",
        "while not terminal:\n",
        "  s = torch.tensor(s).type(torch.FloatTensor).to(device)\n",
        "  dis = policyModel.greedy_action(s)\n",
        "  action = np.argmax(dis.cpu().data.numpy())\n",
        "  next_state,r,terminal,_=env.step(action)\n",
        "  rewards[-1]+=r\n",
        "  s = next_state\n",
        "env.close()\n",
        "show_video('./video')"
      ],
      "execution_count": null,
      "outputs": []
    }
  ]
}