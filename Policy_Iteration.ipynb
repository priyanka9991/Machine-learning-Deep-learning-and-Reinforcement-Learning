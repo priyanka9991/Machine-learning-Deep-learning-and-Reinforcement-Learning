{
  "nbformat": 4,
  "nbformat_minor": 0,
  "metadata": {
    "kernelspec": {
      "display_name": "Python 3",
      "language": "python",
      "name": "python3"
    },
    "language_info": {
      "codemirror_mode": {
        "name": "ipython",
        "version": 3
      },
      "file_extension": ".py",
      "mimetype": "text/x-python",
      "name": "python",
      "nbconvert_exporter": "python",
      "pygments_lexer": "ipython3",
      "version": "3.6.6"
    },
    "colab": {
      "name": "PI.ipynb",
      "provenance": [],
      "collapsed_sections": []
    }
  },
  "cells": [
    {
      "cell_type": "markdown",
      "metadata": {
        "id": "NJ-x9ugyX4RT"
      },
      "source": [
        "Author - Priyanka Vasanthakumari"
      ]
    },
    {
      "cell_type": "markdown",
      "metadata": {
        "id": "ov78ydaCFWab"
      },
      "source": [
        "# Tabular Methods\n",
        "\n",
        "In this assignment, you will solve the FrozenLake-v0 environment from OpenAI gym using \n",
        "* Policy Iteration \n",
        "\n",
        "Winter is here. You and your friends were tossing around a frisbee at the park when you made a wild throw that left the frisbee out in the middle of the lake. The water is mostly frozen, but there are a few holes where the ice has melted. If you step into one of those holes, you'll fall into the freezing water. At this time, there's an international frisbee shortage, so it's absolutely imperative that you navigate across the lake and retrieve the disc. However, the ice is slippery, so you won't always move in the direction you intend.The surface is described using a grid like the following \n",
        "\n",
        "        SFFF\n",
        "        FHFH\n",
        "        FFFH\n",
        "        HFFG\n",
        "    S : starting point, safe\n",
        "    F : frozen surface, safe\n",
        "    H : hole, fall to your doom\n",
        "    G : goal, where the frisbee is located\n",
        "    \n",
        "The episode ends when you reach the goal or fall in a hole. You receive a reward of 1 if you reach the goal, and zero otherwise.\n",
        "\n",
        "source: https://gym.openai.com/envs/FrozenLake-v0/  \n",
        "\n",
        "## The Environment Parameters\n",
        "* Use discount factor, $\\gamma = 0.9$\n",
        "* The environment is slippery, ie., the transition kernel is stochastic\n",
        "* The environment consists of 16 states. (env.nS: count of state (int))\n",
        "* The agent can take 4 actions (env.nA: count of action (int))\n",
        "* The transition kernel P is a dictionary. \n",
        "* P[state][action] is tuples with (probability, nextstate, reward, terminal)\n",
        "* **Use the following code snippet to set up the gym environemnt for all the questions**"
      ]
    },
    {
      "cell_type": "code",
      "metadata": {
        "id": "WaXaSYSuFWas"
      },
      "source": [
        "import gym\n",
        "from gym.envs.registration import register\n",
        "register(\n",
        "    id='D4x4-FrozenLake-v0',\n",
        "    entry_point='gym.envs.toy_text.frozen_lake:FrozenLakeEnv',\n",
        "    kwargs={'map_name': '4x4',\n",
        "            'is_slippery': True})\n",
        "env = gym.make('D4x4-FrozenLake-v0')\n",
        "gamma = 0.9"
      ],
      "execution_count": null,
      "outputs": []
    },
    {
      "cell_type": "code",
      "metadata": {
        "colab": {
          "base_uri": "https://localhost:8080/"
        },
        "id": "PBU513fFFWav",
        "outputId": "3f79fef7-6c7e-4242-e39c-32ebceff8299"
      },
      "source": [
        "#Obtaining environment details \n",
        "print('Number of Actions', env.nA) \n",
        "print('Number of States ', env.nS)\n",
        "print('P[10,3]', env.P[14][2])\n",
        "P = env.P[15][3]\n",
        "len(P)"
      ],
      "execution_count": null,
      "outputs": [
        {
          "output_type": "stream",
          "text": [
            "Number of Actions 4\n",
            "Number of States  16\n",
            "P[10,3] [(0.3333333333333333, 14, 0.0, False), (0.3333333333333333, 15, 1.0, True), (0.3333333333333333, 10, 0.0, False)]\n"
          ],
          "name": "stdout"
        },
        {
          "output_type": "execute_result",
          "data": {
            "text/plain": [
              "1"
            ]
          },
          "metadata": {
            "tags": []
          },
          "execution_count": 18
        }
      ]
    },
    {
      "cell_type": "markdown",
      "metadata": {
        "id": "nN4Vxy7PFWaw"
      },
      "source": [
        "## Generating a Heatmap \n"
      ]
    },
    {
      "cell_type": "code",
      "metadata": {
        "id": "4KTCXDCtFWax"
      },
      "source": [
        "%matplotlib inline\n",
        "import seaborn\n",
        "import matplotlib.pyplot as plt\n",
        "from matplotlib.colors import LogNorm\n",
        "import numpy as np\n",
        "def fancy_visual(value_func,policy_int):    \n",
        "    grid = 4    \n",
        "    f, ax = plt.subplots(figsize=(11, 9))\n",
        "    cmap = seaborn.diverging_palette(220, 10, as_cmap=True)\n",
        "    reshaped = np.reshape(value_func,(grid,grid))\n",
        "    seaborn.heatmap(reshaped, cmap=\"icefire\",vmax=1.1, robust = True,\n",
        "                square=True, xticklabels=grid+1, yticklabels=grid+1,\n",
        "                linewidths=.5, cbar_kws={\"shrink\": .5}, ax=ax, annot=True, fmt=\"f\")\n",
        "    counter = 0\n",
        "    for j in range(0, 4):\n",
        "        for i in range(0, 4):\n",
        "            if int(policy_int[counter]) == 1:\n",
        "                plt.text(i+0.5, j+0.7, u'\\u2193', fontsize=12)\n",
        "            elif int(policy_int[counter]) == 3:\n",
        "                plt.text(i+0.5, j+0.7, u'\\u2191', fontsize=12)\n",
        "            elif int(policy_int[counter]) == 0:\n",
        "                plt.text(i+0.5, j+0.7, u'\\u2190', fontsize=12)\n",
        "            else:\n",
        "                plt.text(i+0.5, j+0.7, u'\\u2192', fontsize=12)\n",
        "            counter=counter+1\n",
        "\n",
        "    plt.title('Heatmap of policy iteration with value function values and directions')\n",
        "    plt.show()\n",
        "\n"
      ],
      "execution_count": null,
      "outputs": []
    },
    {
      "cell_type": "markdown",
      "metadata": {
        "id": "P-HNMCVU-gbR"
      },
      "source": [
        "# Policy Iteration"
      ]
    },
    {
      "cell_type": "code",
      "metadata": {
        "colab": {
          "base_uri": "https://localhost:8080/",
          "height": 1000
        },
        "id": "7TRlwPqN-2_w",
        "outputId": "74bd0654-843e-4516-d99a-f5c8ff1f294f"
      },
      "source": [
        "\n",
        "env.reset()\n",
        "import numpy as np\n",
        "import matplotlib.pyplot as plt\n",
        "\n",
        "def policy_evaluation (env, policy,theta,gamma,H):                               #Evaluate the value of a policy\n",
        "  V = np.zeros(env.nS)\n",
        "  for k in range(H):\n",
        "    Vs1 = V.copy()\n",
        "    for s in range (env.nS):\n",
        "      V_temp = 0\n",
        "      P = env.P[s][policy[s]]\n",
        "      for s1 in range (0, len(P)):\n",
        "        V_temp += P[s1][0]*(P[s1][2] + gamma*V[P[s1][1]])                        \n",
        "      V[s] = V_temp\n",
        "    if (np.linalg.norm(V-Vs1, ord = np.inf)<theta):                              #Check convergence\n",
        "      break\n",
        "  return V\n",
        "\n",
        "def policy_improvement(env, policy, V, gamma):                                   #Improve the policy - greedy method\n",
        "  pi = np.zeros(env.nS)\n",
        "  q = np.zeros((env.nS, env.nA))\n",
        "  for s in range (0,env.nS):\n",
        "    v_temp = np.zeros(env.nA)\n",
        "    for a in range (0,env.nA):\n",
        "      P = env.P[s][a]\n",
        "      for s1 in range (0,len(P)):\n",
        "        v_temp[a] += P[s1][0]*(P[s1][2] + gamma*V[P[s1][1]])\n",
        "    pi[s] = np.argmax(v_temp) \n",
        "    q[s,:] = v_temp\n",
        "  return pi, q\n",
        "\n",
        "\n",
        "def policy_iteration (env, theta, gamma, H):\n",
        "  actions = np.array([0.0, 1.0, 2.0, 3.0])\n",
        "  policy = np.random.choice(actions, env.nS)                                     #Start with a random policy\n",
        "  q = np.zeros((env.nS,env.nA))\n",
        "  value = np.zeros(env.nS)\n",
        "  decay = []\n",
        "  for k in range (H):\n",
        "    old_policy = policy.copy()\n",
        "    old_value = value.copy()\n",
        "    value = policy_evaluation(env, policy,theta,gamma,10000)\n",
        "    policy, q_fun = policy_improvement(env, policy, value, gamma)\n",
        "    v_fun = np.max(q_fun, axis = 1)\n",
        "    decay.append(np.linalg.norm(value-old_value, ord=2))\n",
        "    if np.all(policy==old_policy):\n",
        "      print ('Policy converged')\n",
        "      break\n",
        "  return policy, v_fun, decay, q_fun\n",
        "\n",
        "policy, stateValues,decay, q_values = policy_iteration (env, theta = 1e-04, gamma = 0.9, H=10000)\n",
        "print(\"Optimal values\")\n",
        "print(stateValues)\n",
        "print(\"Optimal Q values\")\n",
        "print(q_values)\n",
        "print(\"Optimal policy\")\n",
        "print(policy)\n",
        "\n",
        "plt.plot(decay) \n",
        "plt.xlabel('Iteration',fontsize=16)\n",
        "plt.ylabel('$||V_{\\pi k} - V_{\\pi k-1}||_2$',fontsize=16)\n",
        "plt.title('Convergence of policy iteration', fontsize = 16)\n",
        "#Heat map\n",
        "fancy_visual(stateValues,policy)\n",
        "\n"
      ],
      "execution_count": null,
      "outputs": [
        {
          "output_type": "stream",
          "text": [
            "Policy converged\n",
            "Optimal values\n",
            "[0.06852382 0.06112474 0.07422593 0.05561581 0.09155073 0.\n",
            " 0.11212405 0.         0.14522701 0.24737939 0.29954114 0.\n",
            " 0.         0.37986166 0.63898415 0.        ]\n",
            "Optimal Q values\n",
            "[[0.06852382 0.06631701 0.06631701 0.05939689]\n",
            " [0.03886233 0.04279698 0.04059018 0.06112474]\n",
            " [0.07422593 0.06864021 0.07257487 0.05726687]\n",
            " [0.03893911 0.03893911 0.03335339 0.05561581]\n",
            " [0.09155073 0.07101616 0.06409604 0.04798925]\n",
            " [0.         0.         0.         0.        ]\n",
            " [0.11212405 0.08986163 0.11212405 0.02226242]\n",
            " [0.         0.         0.         0.        ]\n",
            " [0.07101616 0.11777232 0.10166554 0.14522701]\n",
            " [0.15751775 0.24737939 0.20381791 0.13342311]\n",
            " [0.29954114 0.26590538 0.22533029 0.10784661]\n",
            " [0.         0.         0.         0.        ]\n",
            " [0.         0.         0.         0.        ]\n",
            " [0.18816713 0.30565081 0.37986166 0.26590538]\n",
            " [0.39551245 0.63898415 0.6148895  0.53715125]\n",
            " [0.         0.         0.         0.        ]]\n",
            "Optimal policy\n",
            "[0. 3. 0. 3. 0. 0. 0. 0. 3. 1. 0. 0. 0. 2. 1. 0.]\n"
          ],
          "name": "stdout"
        },
        {
          "output_type": "display_data",
          "data": {
            "image/png": "[encoded data removed]",
            "text/plain": [
              "<Figure size 432x288 with 1 Axes>"
            ]
          },
          "metadata": {
            "tags": [],
            "needs_background": "light"
          }
        },
        {
          "output_type": "display_data",
          "data": {
            "image/png": "[encoded data removed]",
            "text/plain": [
              "<Figure size 792x648 with 2 Axes>"
            ]
          },
          "metadata": {
            "tags": [],
            "needs_background": "light"
          }
        }
      ]
    }
  ]
}